{
 "cells": [
  {
   "cell_type": "markdown",
   "id": "7e85d971",
   "metadata": {},
   "source": [
    "# The Sparks Foundation - Data Science and Business Analytics Intern"
   ]
  },
  {
   "cell_type": "markdown",
   "id": "36455107",
   "metadata": {},
   "source": [
    "# Task 1:Prediction using supervised ML\n"
   ]
  },
  {
   "cell_type": "markdown",
   "id": "0b13f6b2",
   "metadata": {},
   "source": [
    "Supervised learning is the types of machine learning in which machines are trained using well \"labelled\" training data, and on basis of that data, machines predict the output."
   ]
  },
  {
   "cell_type": "markdown",
   "id": "d703b74d",
   "metadata": {},
   "source": [
    "In this task we will predict the percentage score of a student based on number of hours they studied.The task has two varaible where their feature is number of hours studied and percentage score's.This is simple linear regression task as it involves just two variables."
   ]
  },
  {
   "cell_type": "code",
   "execution_count": 54,
   "id": "3a5c8c80",
   "metadata": {},
   "outputs": [],
   "source": [
    "#Importing required Libraries.\n",
    "import pandas as pd\n",
    "import numpy as np\n",
    "import matplotlib.pyplot as plt\n",
    "import seaborn as sns"
   ]
  },
  {
   "cell_type": "code",
   "execution_count": 55,
   "id": "81478533",
   "metadata": {},
   "outputs": [
    {
     "name": "stdout",
     "output_type": "stream",
     "text": [
      "Data imported :\n"
     ]
    },
    {
     "data": {
      "text/html": [
       "<div>\n",
       "<style scoped>\n",
       "    .dataframe tbody tr th:only-of-type {\n",
       "        vertical-align: middle;\n",
       "    }\n",
       "\n",
       "    .dataframe tbody tr th {\n",
       "        vertical-align: top;\n",
       "    }\n",
       "\n",
       "    .dataframe thead th {\n",
       "        text-align: right;\n",
       "    }\n",
       "</style>\n",
       "<table border=\"1\" class=\"dataframe\">\n",
       "  <thead>\n",
       "    <tr style=\"text-align: right;\">\n",
       "      <th></th>\n",
       "      <th>Hours</th>\n",
       "      <th>Scores</th>\n",
       "    </tr>\n",
       "  </thead>\n",
       "  <tbody>\n",
       "    <tr>\n",
       "      <th>0</th>\n",
       "      <td>2.5</td>\n",
       "      <td>21</td>\n",
       "    </tr>\n",
       "    <tr>\n",
       "      <th>1</th>\n",
       "      <td>5.1</td>\n",
       "      <td>47</td>\n",
       "    </tr>\n",
       "    <tr>\n",
       "      <th>2</th>\n",
       "      <td>3.2</td>\n",
       "      <td>27</td>\n",
       "    </tr>\n",
       "    <tr>\n",
       "      <th>3</th>\n",
       "      <td>8.5</td>\n",
       "      <td>75</td>\n",
       "    </tr>\n",
       "    <tr>\n",
       "      <th>4</th>\n",
       "      <td>3.5</td>\n",
       "      <td>30</td>\n",
       "    </tr>\n",
       "  </tbody>\n",
       "</table>\n",
       "</div>"
      ],
      "text/plain": [
       "   Hours  Scores\n",
       "0    2.5      21\n",
       "1    5.1      47\n",
       "2    3.2      27\n",
       "3    8.5      75\n",
       "4    3.5      30"
      ]
     },
     "execution_count": 55,
     "metadata": {},
     "output_type": "execute_result"
    }
   ],
   "source": [
    "#Reading data from url.\n",
    "url=\"http://bit.ly/w-data\"\n",
    "data=pd.read_csv(url)\n",
    "print(\"Data imported :\")\n",
    "\n",
    "#Exploring data.\n",
    "data.head(5)"
   ]
  },
  {
   "cell_type": "code",
   "execution_count": 56,
   "id": "b6e53178",
   "metadata": {},
   "outputs": [
    {
     "name": "stdout",
     "output_type": "stream",
     "text": [
      "           Hours     Scores\n",
      "count  25.000000  25.000000\n",
      "mean    5.012000  51.480000\n",
      "std     2.525094  25.286887\n",
      "min     1.100000  17.000000\n",
      "25%     2.700000  30.000000\n",
      "50%     4.800000  47.000000\n",
      "75%     7.400000  75.000000\n",
      "max     9.200000  95.000000\n"
     ]
    }
   ],
   "source": [
    "print(data.describe()) # describing the data."
   ]
  },
  {
   "cell_type": "code",
   "execution_count": 57,
   "id": "9f1cb4cc",
   "metadata": {},
   "outputs": [
    {
     "name": "stdout",
     "output_type": "stream",
     "text": [
      "<class 'pandas.core.frame.DataFrame'>\n",
      "RangeIndex: 25 entries, 0 to 24\n",
      "Data columns (total 2 columns):\n",
      " #   Column  Non-Null Count  Dtype  \n",
      "---  ------  --------------  -----  \n",
      " 0   Hours   25 non-null     float64\n",
      " 1   Scores  25 non-null     int64  \n",
      "dtypes: float64(1), int64(1)\n",
      "memory usage: 528.0 bytes\n",
      "None\n"
     ]
    }
   ],
   "source": [
    "print(data.info())  # Getting Information about data."
   ]
  },
  {
   "cell_type": "code",
   "execution_count": 58,
   "id": "42cc1a40",
   "metadata": {},
   "outputs": [
    {
     "data": {
      "image/png": "[encoded data removed]",
      "text/plain": [
       "<Figure size 432x288 with 1 Axes>"
      ]
     },
     "metadata": {
      "needs_background": "light"
     },
     "output_type": "display_data"
    }
   ],
   "source": [
    "data.plot(kind='scatter',x='Hours',y='Scores');  # plotting the graph Hours vs Scores.\n",
    "plt.xlabel('Hours studied')\n",
    "plt.ylabel('Percentage score')\n",
    "plt.show()"
   ]
  },
  {
   "cell_type": "markdown",
   "id": "9a506696",
   "metadata": {},
   "source": [
    "# Linear Regression"
   ]
  },
  {
   "cell_type": "markdown",
   "id": "8f95947a",
   "metadata": {},
   "source": [
    "This Step is to divide the data into \"attributes\" and \"label\". "
   ]
  },
  {
   "cell_type": "code",
   "execution_count": 59,
   "id": "76d32fb1",
   "metadata": {},
   "outputs": [],
   "source": [
    "x=data.iloc[:,:-1].values #Preparing the data.\n",
    "y=data.iloc[:,1].values"
   ]
  },
  {
   "cell_type": "markdown",
   "id": "5be32156",
   "metadata": {},
   "source": [
    "This step is to split the data into training and test sets.This can be done by using trin_test_split() method."
   ]
  },
  {
   "cell_type": "code",
   "execution_count": 60,
   "id": "405f9e16",
   "metadata": {},
   "outputs": [],
   "source": [
    "from sklearn.model_selection import train_test_split\n",
    "x_train,x_test,y_train,y_test=train_test_split(x,y,test_size=0.2,random_state=0)"
   ]
  },
  {
   "cell_type": "code",
   "execution_count": 61,
   "id": "af8c5ace",
   "metadata": {},
   "outputs": [
    {
     "name": "stdout",
     "output_type": "stream",
     "text": [
      " Training complete.\n"
     ]
    }
   ],
   "source": [
    "# Now training the model.\n",
    "\n",
    "from sklearn.linear_model import LinearRegression # Linear Regression model.\n",
    "reg= LinearRegression()\n",
    "reg.fit(x_train,y_train)\n",
    "\n",
    "print(\" Training complete.\")"
   ]
  },
  {
   "cell_type": "markdown",
   "id": "ca679b41",
   "metadata": {},
   "source": [
    "line =m*X+c.\n",
    "where, m = slope of the line and c= intercept of line where all points fall. Plotting for test data."
   ]
  },
  {
   "cell_type": "code",
   "execution_count": 62,
   "id": "3157a0a0",
   "metadata": {},
   "outputs": [
    {
     "data": {
      "image/png": "[encoded data removed]",
      "text/plain": [
       "<Figure size 432x288 with 1 Axes>"
      ]
     },
     "metadata": {
      "needs_background": "light"
     },
     "output_type": "display_data"
    }
   ],
   "source": [
    "line=reg.coef_*x + reg.intercept_  #  Plotting for test data.\n",
    "plt.scatter(x,y)\n",
    "plt.plot(x,line);\n",
    "plt.show()"
   ]
  },
  {
   "cell_type": "markdown",
   "id": "e3507b63",
   "metadata": {},
   "source": [
    "# After training the algorithm, making some predictions."
   ]
  },
  {
   "cell_type": "code",
   "execution_count": 63,
   "id": "e4815efa",
   "metadata": {},
   "outputs": [
    {
     "name": "stdout",
     "output_type": "stream",
     "text": [
      "[[1.5]\n",
      " [3.2]\n",
      " [7.4]\n",
      " [2.5]\n",
      " [5.9]]\n"
     ]
    }
   ],
   "source": [
    "print(x_test)\n",
    "y_prec=reg.predict(x_test) # predicting the data."
   ]
  },
  {
   "cell_type": "markdown",
   "id": "92366977",
   "metadata": {},
   "source": [
    "Actual values got from data and Predicted vlaues which model predicts."
   ]
  },
  {
   "cell_type": "code",
   "execution_count": 67,
   "id": "5730f7e1",
   "metadata": {},
   "outputs": [
    {
     "data": {
      "text/html": [
       "<div>\n",
       "<style scoped>\n",
       "    .dataframe tbody tr th:only-of-type {\n",
       "        vertical-align: middle;\n",
       "    }\n",
       "\n",
       "    .dataframe tbody tr th {\n",
       "        vertical-align: top;\n",
       "    }\n",
       "\n",
       "    .dataframe thead th {\n",
       "        text-align: right;\n",
       "    }\n",
       "</style>\n",
       "<table border=\"1\" class=\"dataframe\">\n",
       "  <thead>\n",
       "    <tr style=\"text-align: right;\">\n",
       "      <th></th>\n",
       "      <th>Actual</th>\n",
       "      <th>Predicted</th>\n",
       "    </tr>\n",
       "  </thead>\n",
       "  <tbody>\n",
       "    <tr>\n",
       "      <th>0</th>\n",
       "      <td>20</td>\n",
       "      <td>16.884145</td>\n",
       "    </tr>\n",
       "    <tr>\n",
       "      <th>1</th>\n",
       "      <td>27</td>\n",
       "      <td>33.732261</td>\n",
       "    </tr>\n",
       "    <tr>\n",
       "      <th>2</th>\n",
       "      <td>69</td>\n",
       "      <td>75.357018</td>\n",
       "    </tr>\n",
       "    <tr>\n",
       "      <th>3</th>\n",
       "      <td>30</td>\n",
       "      <td>26.794801</td>\n",
       "    </tr>\n",
       "    <tr>\n",
       "      <th>4</th>\n",
       "      <td>62</td>\n",
       "      <td>60.491033</td>\n",
       "    </tr>\n",
       "  </tbody>\n",
       "</table>\n",
       "</div>"
      ],
      "text/plain": [
       "   Actual  Predicted\n",
       "0      20  16.884145\n",
       "1      27  33.732261\n",
       "2      69  75.357018\n",
       "3      30  26.794801\n",
       "4      62  60.491033"
      ]
     },
     "execution_count": 67,
     "metadata": {},
     "output_type": "execute_result"
    }
   ],
   "source": [
    " # comparing Actual vs predicted values.\n",
    "\n",
    "df=pd.DataFrame({'Actual':y_test,'Predicted':y_prec})\n",
    "df"
   ]
  },
  {
   "cell_type": "markdown",
   "id": "a6c54e0b",
   "metadata": {},
   "source": [
    "# What would be the predicted score if a student studies for 9.25 hr/day?"
   ]
  },
  {
   "cell_type": "code",
   "execution_count": 65,
   "id": "a9dd9320",
   "metadata": {},
   "outputs": [
    {
     "name": "stdout",
     "output_type": "stream",
     "text": [
      "Number of Hours Studied = 9.25\n",
      "Predicted Score = 93.69 %\n"
     ]
    }
   ],
   "source": [
    "hours=9.25\n",
    "own_data=reg.predict([[hours]])\n",
    "print(\"Number of Hours Studied =\",hours)\n",
    "print(\"Predicted Score = {} %\".format(round(own_data[0],2)))"
   ]
  },
  {
   "cell_type": "markdown",
   "id": "dfb7e732",
   "metadata": {},
   "source": [
    "# Model Evaluation"
   ]
  },
  {
   "cell_type": "markdown",
   "id": "d5b51fc9",
   "metadata": {},
   "source": [
    "Finally evaluating the performance of the algorithm. It compare how well algorithm performs on perticular dataset."
   ]
  },
  {
   "cell_type": "code",
   "execution_count": 66,
   "id": "254063c6",
   "metadata": {},
   "outputs": [
    {
     "name": "stdout",
     "output_type": "stream",
     "text": [
      "Mean Absolute Error :  4.183859899002975\n"
     ]
    }
   ],
   "source": [
    "from sklearn import metrics\n",
    "print(\"Mean Absolute Error : \",metrics.mean_absolute_error(y_test,y_prec))"
   ]
  }
 ],
 "metadata": {
  "kernelspec": {
   "display_name": "Python 3",
   "language": "python",
   "name": "python3"
  },
  "language_info": {
   "codemirror_mode": {
    "name": "ipython",
    "version": 3
   },
   "file_extension": ".py",
   "mimetype": "text/x-python",
   "name": "python",
   "nbconvert_exporter": "python",
   "pygments_lexer": "ipython3",
   "version": "3.8.8"
  }
 },
 "nbformat": 4,
 "nbformat_minor": 5
}
